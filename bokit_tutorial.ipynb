{
 "cells": [
  {
   "cell_type": "code",
   "execution_count": 1,
   "id": "0f4f7cc5",
   "metadata": {},
   "outputs": [],
   "source": [
    "import bokit"
   ]
  },
  {
   "cell_type": "code",
   "execution_count": 2,
   "id": "3c614788",
   "metadata": {},
   "outputs": [],
   "source": [
    "variables = [ bokit.Variable(i) for i in range(10) ]"
   ]
  },
  {
   "cell_type": "code",
   "execution_count": 3,
   "id": "f31c15f0",
   "metadata": {},
   "outputs": [
    {
     "name": "stdout",
     "output_type": "stream",
     "text": [
      "001011\n"
     ]
    }
   ],
   "source": [
    "state = bokit.State(\"0010110\")\n",
    "state2 = bokit.State(\"0011110\")\n",
    "\n",
    "print(state)"
   ]
  },
  {
   "cell_type": "code",
   "execution_count": 4,
   "id": "2bd2fa47",
   "metadata": {},
   "outputs": [
    {
     "name": "stdout",
     "output_type": "stream",
     "text": [
      "001--1--0\n",
      "---11--0\n",
      "\n"
     ]
    }
   ],
   "source": [
    "implicants = bokit.Implicants(\"001--1--0 ;  - ''  --11--0\")\n",
    "print(implicants)"
   ]
  },
  {
   "cell_type": "code",
   "execution_count": 5,
   "id": "d33c59c0",
   "metadata": {},
   "outputs": [
    {
     "data": {
      "text/plain": [
       "True"
      ]
     },
     "execution_count": 5,
     "metadata": {},
     "output_type": "execute_result"
    }
   ],
   "source": [
    "implicants.eval(state)"
   ]
  },
  {
   "cell_type": "code",
   "execution_count": 6,
   "id": "37f0fb85",
   "metadata": {},
   "outputs": [
    {
     "name": "stdout",
     "output_type": "stream",
     "text": [
      "010011\n"
     ]
    }
   ],
   "source": [
    "state.disable(variables[2])\n",
    "state.activate(variables[1])\n",
    "print(state)"
   ]
  },
  {
   "cell_type": "code",
   "execution_count": 7,
   "id": "ec84077d",
   "metadata": {},
   "outputs": [
    {
     "data": {
      "text/plain": [
       "False"
      ]
     },
     "execution_count": 7,
     "metadata": {},
     "output_type": "execute_result"
    }
   ],
   "source": [
    "implicants.eval(state)"
   ]
  },
  {
   "cell_type": "code",
   "execution_count": 8,
   "id": "c79ddc84",
   "metadata": {},
   "outputs": [],
   "source": [
    "e1 = variables[2] & ~variables[5]\n",
    "e2 = variables[2] | variables[5]"
   ]
  },
  {
   "cell_type": "code",
   "execution_count": 9,
   "id": "0ed71b15",
   "metadata": {},
   "outputs": [
    {
     "name": "stdout",
     "output_type": "stream",
     "text": [
      "_2_ & !_5_\n"
     ]
    }
   ],
   "source": [
    "print(e1)"
   ]
  },
  {
   "cell_type": "code",
   "execution_count": 10,
   "id": "1dcb537f",
   "metadata": {},
   "outputs": [
    {
     "data": {
      "text/plain": [
       "(False, True)"
      ]
     },
     "execution_count": 10,
     "metadata": {},
     "output_type": "execute_result"
    }
   ],
   "source": [
    "e1.eval(state) , e2.eval(state)"
   ]
  }
 ],
 "metadata": {
  "kernelspec": {
   "display_name": "Python 3",
   "language": "python",
   "name": "python3"
  },
  "language_info": {
   "codemirror_mode": {
    "name": "ipython",
    "version": 3
   },
   "file_extension": ".py",
   "mimetype": "text/x-python",
   "name": "python",
   "nbconvert_exporter": "python",
   "pygments_lexer": "ipython3",
   "version": "3.9.6"
  }
 },
 "nbformat": 4,
 "nbformat_minor": 5
}
