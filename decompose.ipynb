{
 "cells": [
  {
   "cell_type": "code",
   "execution_count": 1,
   "id": "02c83d54",
   "metadata": {
    "tags": []
   },
   "outputs": [],
   "source": [
    "import bokit as bk"
   ]
  },
  {
   "cell_type": "markdown",
   "id": "052f4ae5-d988-4234-845a-2c363c8153e4",
   "metadata": {},
   "source": [
    "# Decomposition on a complex example\n",
    "\n",
    "The complex rule was taken from a Boolean model of the cell division cycle in S. cerevisiae: https://www.nature.com/articles/s41467-019-08903-w\n",
    "\n",
    "We have a function with a large estimated complexity, but for which we can still compute the 570 prime implicants.\n",
    "Decomposing this functions gives a system of 6 expressions and a total of 54 prime implicants (10 fold reduction)."
   ]
  },
  {
   "cell_type": "code",
   "execution_count": 2,
   "id": "a59e1790",
   "metadata": {},
   "outputs": [],
   "source": [
    "cplx = \"((R43 & R939 & S1166) | ((S45 | S44) & (S43 | S42) & (S47 | S46) & (S431 | S1167) & (S575 | S326 | S1169) & (S1166 | S47) & (S1173 | S1172) & (S1168 | S471) & (S1171 | S1170) & ((R43 & (R939 | S46 | ((S45 | S44) & (S43 | S42) & (S47 | S46) & ((S47 & R44) | (S46 & !((R43 & S1166 & S46)))))) & (S1166 | ((S431 | S1167) & (S575 | S326 | S1169) & (S1166 | S47) & (S1173 | S1172) & (S1168 | S471) & (S1171 | S1170) & ((S47 & R44) | (S1166 & !((R43 & S1166 & S46))))))) | (S47 & !((S47 & R44))))))\""
   ]
  },
  {
   "cell_type": "code",
   "execution_count": 3,
   "id": "614d9259",
   "metadata": {
    "tags": []
   },
   "outputs": [
    {
     "data": {
      "text/plain": [
       "(21, ExprComplexity { score: Some(10054657), atoms: 60, depth: 12 })"
      ]
     },
     "execution_count": 3,
     "metadata": {},
     "output_type": "execute_result"
    }
   ],
   "source": [
    "vs = bk.VarSpace()\n",
    "elx = vs.parse_expression(cplx, extend=True)\n",
    "len(elx.regulators()), elx.estimate_complexity()"
   ]
  },
  {
   "cell_type": "code",
   "execution_count": 4,
   "id": "ca2951d2",
   "metadata": {},
   "outputs": [
    {
     "data": {
      "text/plain": [
       "ExprComplexity { score: Some(507), atoms: 60, depth: 12 }"
      ]
     },
     "execution_count": 4,
     "metadata": {},
     "output_type": "execute_result"
    }
   ],
   "source": [
    "(~elx).estimate_complexity()"
   ]
  },
  {
   "cell_type": "code",
   "execution_count": 5,
   "id": "52372597",
   "metadata": {},
   "outputs": [
    {
     "data": {
      "text/plain": [
       "25"
      ]
     },
     "execution_count": 5,
     "metadata": {},
     "output_type": "execute_result"
    }
   ],
   "source": [
    "npr = bk.Primes(~elx)\n",
    "npr.len()"
   ]
  },
  {
   "cell_type": "code",
   "execution_count": 6,
   "id": "eecffad7-6858-4d17-8b0d-1149a4a08e86",
   "metadata": {},
   "outputs": [
    {
     "data": {
      "text/plain": [
       "ExprComplexity { score: Some(10054657), atoms: 60, depth: 12 }"
      ]
     },
     "execution_count": 6,
     "metadata": {},
     "output_type": "execute_result"
    }
   ],
   "source": [
    "elx.estimate_complexity()"
   ]
  },
  {
   "cell_type": "code",
   "execution_count": 7,
   "id": "8c230f5e",
   "metadata": {},
   "outputs": [
    {
     "name": "stdout",
     "output_type": "stream",
     "text": [
      "CPU times: user 148 ms, sys: 913 µs, total: 149 ms\n",
      "Wall time: 149 ms\n"
     ]
    }
   ],
   "source": [
    "%time pr = bk.Primes(elx)"
   ]
  },
  {
   "cell_type": "code",
   "execution_count": 8,
   "id": "9a4911e2",
   "metadata": {},
   "outputs": [
    {
     "data": {
      "text/plain": [
       "577"
      ]
     },
     "execution_count": 8,
     "metadata": {},
     "output_type": "execute_result"
    }
   ],
   "source": [
    "pr.len()"
   ]
  },
  {
   "cell_type": "code",
   "execution_count": 9,
   "id": "119c789d",
   "metadata": {},
   "outputs": [
    {
     "data": {
      "text/plain": [
       "21"
      ]
     },
     "execution_count": 9,
     "metadata": {},
     "output_type": "execute_result"
    }
   ],
   "source": [
    "nepr = bk.Expr(npr)\n",
    "nepr.regulators().len()"
   ]
  },
  {
   "cell_type": "code",
   "execution_count": 10,
   "id": "63e1f4c6",
   "metadata": {},
   "outputs": [
    {
     "data": {
      "text/plain": [
       "'R43 & R939 & S1166 | (S45 | S44) & (S43 | S42) & (S47 | S46) & (S431 | S1167) & (S575 | S326 | S1169) & (S1166 | S47) & (S1173 | S1172) & (S1168 | S471) & (S1171 | S1170) & (R43 & (R939 | S46 | (S45 | S44) & (S43 | S42) & (S47 | S46) & (S47 & R44 | S46 & (!R43 | !S1166 | !S46))) & (S1166 | (S431 | S1167) & (S575 | S326 | S1169) & (S1166 | S47) & (S1173 | S1172) & (S1168 | S471) & (S1171 | S1170) & (S47 & R44 | S1166 & (!R43 | !S1166 | !S46))) | S47 & (!S47 | !R44))'"
      ]
     },
     "execution_count": 10,
     "metadata": {},
     "output_type": "execute_result"
    }
   ],
   "source": [
    "vs.display(elx)"
   ]
  },
  {
   "cell_type": "code",
   "execution_count": 11,
   "id": "cb284f36",
   "metadata": {},
   "outputs": [
    {
     "data": {
      "text/plain": [
       "'!R43 & !S45 & !S44 | !R939 & !S45 & !S44 | !S1166 & !S45 & !S44 | !R43 & !S43 & !S42 | !R939 & !S43 & !S42 | !S1166 & !S43 & !S42 | !S1166 & !S1171 & !S1170 | !R939 & !S1171 & !S1170 | !S1166 & !S575 & !S326 & !S1169 | !R43 & !S431 & !S1167 | !R939 & !S431 & !S1167 | !S1166 & !S431 & !S1167 | !R43 & !S575 & !S326 & !S1169 | !R939 & !S575 & !S326 & !S1169 | !R43 & !S1171 & !S1170 | !R43 & !S1173 & !S1172 | !R939 & !S1173 & !S1172 | !S1166 & !S1173 & !S1172 | !R43 & !S1168 & !S471 | !R939 & !S1168 & !S471 | !S1166 & !S1168 & !S471 | !S1166 & !S47 | !R939 & !S47 & !S46 | !R43 & !S47 | R44 & !R43'"
      ]
     },
     "execution_count": 11,
     "metadata": {},
     "output_type": "execute_result"
    }
   ],
   "source": [
    "vs.display(nepr)"
   ]
  },
  {
   "cell_type": "code",
   "execution_count": 12,
   "id": "e6c6196a",
   "metadata": {},
   "outputs": [
    {
     "data": {
      "text/plain": [
       "ExprComplexity { score: Some(25), atoms: 75, depth: 25 }"
      ]
     },
     "execution_count": 12,
     "metadata": {},
     "output_type": "execute_result"
    }
   ],
   "source": [
    "nepr.estimate_complexity()"
   ]
  },
  {
   "cell_type": "code",
   "execution_count": 13,
   "id": "cc302ed4",
   "metadata": {},
   "outputs": [],
   "source": [
    "epr = ~ nepr"
   ]
  },
  {
   "cell_type": "code",
   "execution_count": 14,
   "id": "36595a15",
   "metadata": {},
   "outputs": [
    {
     "data": {
      "text/plain": [
       "ExprComplexity { score: Some(595077871104), atoms: 75, depth: 25 }"
      ]
     },
     "execution_count": 14,
     "metadata": {},
     "output_type": "execute_result"
    }
   ],
   "source": [
    "epr.estimate_complexity()"
   ]
  },
  {
   "cell_type": "code",
   "execution_count": 15,
   "id": "a370e69d-7904-443f-b429-06dff0ffb3d7",
   "metadata": {},
   "outputs": [
    {
     "name": "stdout",
     "output_type": "stream",
     "text": [
      "CPU times: user 20 ms, sys: 0 ns, total: 20 ms\n",
      "Wall time: 20.2 ms\n"
     ]
    },
    {
     "data": {
      "text/plain": [
       "577"
      ]
     },
     "execution_count": 15,
     "metadata": {},
     "output_type": "execute_result"
    }
   ],
   "source": [
    "# In this case, the prime implicants avoid most of the potential complexity\n",
    "%time primes = bk.Primes(epr)\n",
    "primes.len()"
   ]
  },
  {
   "cell_type": "code",
   "execution_count": 16,
   "id": "745ad13f-bb65-421a-9a93-e819bed27bc0",
   "metadata": {},
   "outputs": [
    {
     "name": "stdout",
     "output_type": "stream",
     "text": [
      "DecomposeReport { root_score: 72, sum_sub_score: 495 }\n"
     ]
    },
    {
     "data": {
      "text/plain": [
       "Expanded __25__ & (__2__ | __16__ | __17__) & (__2__ | __7__) & (__1__ | __7__ | __8__) & (__0__ | __7__) & (!__20__ | __0__)\n",
       "  _25_ <- __24__ & (__1__ | __14__ | __15__) & (__2__ | __14__ | __15__) & (__0__ | __16__ | __17__) & (__1__ | __16__ | __17__)\n",
       "  _21_ <- (__0__ | __3__ | __4__) & (__1__ | __3__ | __4__) & (__2__ | __3__ | __4__) & (__0__ | __5__ | __6__)\n",
       "  _23_ <- __22__ & (__2__ | __11__ | __12__ | __13__) & (__0__ | __9__ | __10__) & (__1__ | __9__ | __10__) & (__2__ | __9__ | __10__)\n",
       "  _22_ <- __21__ & (__1__ | __5__ | __6__) & (__2__ | __5__ | __6__) & (__2__ | __18__ | __19__) & (__1__ | __18__ | __19__)\n",
       "  _24_ <- __23__ & (__0__ | __11__ | __12__ | __13__) & (__1__ | __11__ | __12__ | __13__) & (__0__ | __18__ | __19__) & (__0__ | __14__ | __15__)"
      ]
     },
     "execution_count": 16,
     "metadata": {},
     "output_type": "execute_result"
    }
   ],
   "source": [
    "dc,rep = epr.decompose()\n",
    "print(rep)\n",
    "dc"
   ]
  },
  {
   "cell_type": "code",
   "execution_count": 17,
   "id": "a256c64d-8fde-412b-8d54-1e347446f215",
   "metadata": {},
   "outputs": [
    {
     "name": "stdout",
     "output_type": "stream",
     "text": [
      "The decomposed expression has 5 associated rules and 54 prime implicants in total\n"
     ]
    }
   ],
   "source": [
    "# we can then get the prime implicants of the decomposed expression\n",
    "dc_primes = dc.to_primes()\n",
    "print(f\"The decomposed expression has {dc_primes.expansion_count()} associated rules and {dc_primes.total_len()} prime implicants in total\")"
   ]
  },
  {
   "cell_type": "code",
   "execution_count": 18,
   "id": "b7000586-798e-48b4-bd12-e47cedb59fbd",
   "metadata": {},
   "outputs": [
    {
     "data": {
      "text/plain": [
       "[[Expanded\n",
       "Root: \n",
       "-------1---------1--0----1\n",
       "-------1--------1---0----1\n",
       "--1----1------------0----1\n",
       "111----------------------1\n",
       "1-1-----1----------------1\n",
       "1-1----1-----------------1\n",
       "1------1--------1--------1\n",
       "1------1---------1-------1\n",
       "\n",
       "Associated _21_:\n",
       "111\n",
       "1--1\n",
       "1---1\n",
       "----11\n",
       "---1-1\n",
       "----1-1\n",
       "---1--1\n",
       "\n",
       "Associated _22_:\n",
       "-11------------------1\n",
       "------1-----------1--1\n",
       "-----1------------1--1\n",
       "-----1-------------1-1\n",
       "------1------------1-1\n",
       "\n",
       "Associated _24_:\n",
       "11---------------------1\n",
       "1-----------1----------1\n",
       "1----------1-----------1\n",
       "1------------1---------1\n",
       "-----------1--1----1---1\n",
       "------------1-1----1---1\n",
       "-------------11----1---1\n",
       "-----------1--1---1----1\n",
       "-------------11---1----1\n",
       "------------1-1---1----1\n",
       "-----------1---1---1---1\n",
       "------------1--1---1---1\n",
       "-------------1-1---1---1\n",
       "-----------1---1--1----1\n",
       "-------------1-1--1----1\n",
       "------------1--1--1----1\n",
       "\n",
       "Associated _23_:\n",
       "111-------------------1\n",
       "--1------1------------1\n",
       "---------1---1--------1\n",
       "---------1--1---------1\n",
       "---------1-1----------1\n",
       "--1-------1-----------1\n",
       "----------11----------1\n",
       "----------1-1---------1\n",
       "----------1--1--------1\n",
       "\n",
       "Associated _25_:\n",
       "111---------------------1\n",
       "-11-------------1-------1\n",
       "--------------1-1-------1\n",
       "11-------------1--------1\n",
       "---------------11-------1\n",
       "11------------1---------1\n",
       "---------------1-1------1\n",
       "--------------1--1------1\n",
       "-11--------------1------1\n",
       "]]"
      ]
     },
     "execution_count": 18,
     "metadata": {},
     "output_type": "execute_result"
    }
   ],
   "source": [
    "dc_primes"
   ]
  }
 ],
 "metadata": {
  "kernelspec": {
   "display_name": "Python 3 (ipykernel)",
   "language": "python",
   "name": "python3"
  },
  "language_info": {
   "codemirror_mode": {
    "name": "ipython",
    "version": 3
   },
   "file_extension": ".py",
   "mimetype": "text/x-python",
   "name": "python",
   "nbconvert_exporter": "python",
   "pygments_lexer": "ipython3",
   "version": "3.9.7"
  }
 },
 "nbformat": 4,
 "nbformat_minor": 5
}
