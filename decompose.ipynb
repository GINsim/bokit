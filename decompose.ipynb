{
 "cells": [
  {
   "cell_type": "code",
   "execution_count": 1,
   "id": "02c83d54",
   "metadata": {
    "tags": []
   },
   "outputs": [],
   "source": [
    "import bokit as bk"
   ]
  },
  {
   "cell_type": "markdown",
   "id": "8ef59a39-f370-4b55-ba94-a3f9ed78b4b3",
   "metadata": {},
   "source": [
    "# NNF"
   ]
  },
  {
   "cell_type": "code",
   "execution_count": 2,
   "id": "32928511-5c34-42a7-9209-e570c8eb1f7d",
   "metadata": {},
   "outputs": [
    {
     "data": {
      "text/plain": [
       "!(__0__ & __1__ | __2__ & __3__ & !__1__)"
      ]
     },
     "execution_count": 2,
     "metadata": {},
     "output_type": "execute_result"
    }
   ],
   "source": [
    "vs = bk.VarSpace()\n",
    "e = vs.parse_expression(\"!(A & B | C & !(!D | B))\", extend=True)\n",
    "e"
   ]
  },
  {
   "cell_type": "code",
   "execution_count": 3,
   "id": "60ddcbed-47bf-4a7d-bb4b-7911d8c53c63",
   "metadata": {},
   "outputs": [],
   "source": [
    "e2 = vs.parse_expression(\"A & (B | C)\")\n",
    "ne2 = ~e2"
   ]
  },
  {
   "cell_type": "code",
   "execution_count": 4,
   "id": "2cc7a6b3-9442-4718-8d3d-f90677edce82",
   "metadata": {},
   "outputs": [
    {
     "data": {
      "text/plain": [
       "'!A | !B & !C'"
      ]
     },
     "execution_count": 4,
     "metadata": {},
     "output_type": "execute_result"
    }
   ],
   "source": [
    "vs.display( ne2.nnf() )"
   ]
  },
  {
   "cell_type": "code",
   "execution_count": 5,
   "id": "a529381b-86fd-4824-b632-05a3b7e3cd1f",
   "metadata": {},
   "outputs": [
    {
     "data": {
      "text/plain": [
       "'(!A | !B) & (!C | !D | B)'"
      ]
     },
     "execution_count": 5,
     "metadata": {},
     "output_type": "execute_result"
    }
   ],
   "source": [
    "vs.display( e.nnf() )"
   ]
  },
  {
   "cell_type": "markdown",
   "id": "4da006ee-627f-478c-b1af-291f1f7c5afd",
   "metadata": {},
   "source": [
    "# Complexity analysis"
   ]
  },
  {
   "cell_type": "code",
   "execution_count": 6,
   "id": "fa715d9b",
   "metadata": {},
   "outputs": [
    {
     "data": {
      "text/plain": [
       "ExprComplexity { score: Some(81), atoms: 12, depth: 4 }"
      ]
     },
     "execution_count": 6,
     "metadata": {},
     "output_type": "execute_result"
    }
   ],
   "source": [
    "vs = bk.VarSpace()\n",
    "e = vs.parse_expression(\"(A & B & C) | (D & E & F) | (G & H & I) | (J & K & L)\", extend=True)\n",
    "ne = ~e\n",
    "\n",
    "ne.estimate_complexity()"
   ]
  },
  {
   "cell_type": "code",
   "execution_count": 7,
   "id": "38253c15-d817-40c3-b81b-bca1256ed047",
   "metadata": {},
   "outputs": [
    {
     "name": "stdout",
     "output_type": "stream",
     "text": [
      "DecompositionReport { root_score: 81, sum_sub_score: 0 }\n"
     ]
    },
    {
     "data": {
      "text/plain": [
       "!(__0__ & __1__ & __2__ | __3__ & __4__ & __5__ | __6__ & __7__ & __8__ | __9__ & __10__ & __11__)"
      ]
     },
     "execution_count": 7,
     "metadata": {},
     "output_type": "execute_result"
    }
   ],
   "source": [
    "# this function is too simple to be decomposed using the default penalty\n",
    "dc,rep = ne.decompose()\n",
    "print(rep)\n",
    "dc"
   ]
  },
  {
   "cell_type": "code",
   "execution_count": 8,
   "id": "7239337a-13e9-42b6-8554-362f922d2c4e",
   "metadata": {},
   "outputs": [
    {
     "name": "stdout",
     "output_type": "stream",
     "text": [
      "DecompositionReport { root_score: 3, sum_sub_score: 27 }\n"
     ]
    },
    {
     "data": {
      "text/plain": [
       "Expanded __12__ & (!__9__ | !__10__ | !__11__)\n",
       "  _12_ <- (!__0__ | !__1__ | !__2__) & (!__3__ | !__4__ | !__5__) & (!__6__ | !__7__ | !__8__)"
      ]
     },
     "execution_count": 8,
     "metadata": {},
     "output_type": "execute_result"
    }
   ],
   "source": [
    "# By selecting a lower penalty, we can decompose it\n",
    "dc,rep = ne.decompose(50)\n",
    "print(rep)\n",
    "dc"
   ]
  },
  {
   "cell_type": "code",
   "execution_count": 9,
   "id": "5db64817",
   "metadata": {},
   "outputs": [
    {
     "data": {
      "text/plain": [
       "ExprComplexity { score: Some(4), atoms: 12, depth: 4 }"
      ]
     },
     "execution_count": 9,
     "metadata": {},
     "output_type": "execute_result"
    }
   ],
   "source": [
    "pe = bk.Primes(e)\n",
    "epe = bk.Expr(pe)\n",
    "epe.estimate_complexity()"
   ]
  },
  {
   "cell_type": "code",
   "execution_count": 10,
   "id": "253ebf64",
   "metadata": {},
   "outputs": [
    {
     "data": {
      "text/plain": [
       "ExprComplexity { score: Some(81), atoms: 12, depth: 4 }"
      ]
     },
     "execution_count": 10,
     "metadata": {},
     "output_type": "execute_result"
    }
   ],
   "source": [
    "nepe = ~epe\n",
    "nepe.estimate_complexity()"
   ]
  },
  {
   "cell_type": "code",
   "execution_count": 11,
   "id": "a59e1790",
   "metadata": {},
   "outputs": [],
   "source": [
    "# Complex rule taken from https://www.nature.com/articles/s41467-019-08903-w\n",
    "cplx = \"((R43 & R939 & S1166) | ((S45 | S44) & (S43 | S42) & (S47 | S46) & (S431 | S1167) & (S575 | S326 | S1169) & (S1166 | S47) & (S1173 | S1172) & (S1168 | S471) & (S1171 | S1170) & ((R43 & (R939 | S46 | ((S45 | S44) & (S43 | S42) & (S47 | S46) & ((S47 & R44) | (S46 & !((R43 & S1166 & S46)))))) & (S1166 | ((S431 | S1167) & (S575 | S326 | S1169) & (S1166 | S47) & (S1173 | S1172) & (S1168 | S471) & (S1171 | S1170) & ((S47 & R44) | (S1166 & !((R43 & S1166 & S46))))))) | (S47 & !((S47 & R44))))))\"\n",
    "spl = \"R939 & S1166 | (S45 | S44) & (S43 | S42)\""
   ]
  },
  {
   "cell_type": "code",
   "execution_count": 12,
   "id": "614d9259",
   "metadata": {
    "tags": []
   },
   "outputs": [
    {
     "data": {
      "text/plain": [
       "(21, ExprComplexity { score: Some(10054657), atoms: 60, depth: 12 })"
      ]
     },
     "execution_count": 12,
     "metadata": {},
     "output_type": "execute_result"
    }
   ],
   "source": [
    "elx = vs.parse_expression(cplx, extend=True)\n",
    "len(elx.regulators()), elx.estimate_complexity()"
   ]
  },
  {
   "cell_type": "code",
   "execution_count": 13,
   "id": "ca2951d2",
   "metadata": {},
   "outputs": [
    {
     "data": {
      "text/plain": [
       "ExprComplexity { score: Some(507), atoms: 60, depth: 12 }"
      ]
     },
     "execution_count": 13,
     "metadata": {},
     "output_type": "execute_result"
    }
   ],
   "source": [
    "(~elx).estimate_complexity()"
   ]
  },
  {
   "cell_type": "code",
   "execution_count": 14,
   "id": "52372597",
   "metadata": {},
   "outputs": [
    {
     "data": {
      "text/plain": [
       "25"
      ]
     },
     "execution_count": 14,
     "metadata": {},
     "output_type": "execute_result"
    }
   ],
   "source": [
    "npr = bk.Primes(~elx)\n",
    "npr.len()"
   ]
  },
  {
   "cell_type": "code",
   "execution_count": 15,
   "id": "eecffad7-6858-4d17-8b0d-1149a4a08e86",
   "metadata": {},
   "outputs": [
    {
     "data": {
      "text/plain": [
       "ExprComplexity { score: Some(10054657), atoms: 60, depth: 12 }"
      ]
     },
     "execution_count": 15,
     "metadata": {},
     "output_type": "execute_result"
    }
   ],
   "source": [
    "elx.estimate_complexity()"
   ]
  },
  {
   "cell_type": "code",
   "execution_count": 16,
   "id": "8c230f5e",
   "metadata": {},
   "outputs": [
    {
     "name": "stdout",
     "output_type": "stream",
     "text": [
      "CPU times: user 207 ms, sys: 0 ns, total: 207 ms\n",
      "Wall time: 208 ms\n"
     ]
    }
   ],
   "source": [
    "%time pr = bk.Primes(elx)"
   ]
  },
  {
   "cell_type": "code",
   "execution_count": 17,
   "id": "9a4911e2",
   "metadata": {},
   "outputs": [
    {
     "data": {
      "text/plain": [
       "577"
      ]
     },
     "execution_count": 17,
     "metadata": {},
     "output_type": "execute_result"
    }
   ],
   "source": [
    "pr.len()"
   ]
  },
  {
   "cell_type": "code",
   "execution_count": 18,
   "id": "119c789d",
   "metadata": {},
   "outputs": [
    {
     "data": {
      "text/plain": [
       "21"
      ]
     },
     "execution_count": 18,
     "metadata": {},
     "output_type": "execute_result"
    }
   ],
   "source": [
    "nepr = bk.Expr(npr)\n",
    "nepr.regulators().len()"
   ]
  },
  {
   "cell_type": "code",
   "execution_count": 19,
   "id": "63e1f4c6",
   "metadata": {},
   "outputs": [
    {
     "data": {
      "text/plain": [
       "'R43 & R939 & S1166 | (S45 | S44) & (S43 | S42) & (S47 | S46) & (S431 | S1167) & (S575 | S326 | S1169) & (S1166 | S47) & (S1173 | S1172) & (S1168 | S471) & (S1171 | S1170) & (R43 & (R939 | S46 | (S45 | S44) & (S43 | S42) & (S47 | S46) & (S47 & R44 | S46 & (!R43 | !S1166 | !S46))) & (S1166 | (S431 | S1167) & (S575 | S326 | S1169) & (S1166 | S47) & (S1173 | S1172) & (S1168 | S471) & (S1171 | S1170) & (S47 & R44 | S1166 & (!R43 | !S1166 | !S46))) | S47 & (!S47 | !R44))'"
      ]
     },
     "execution_count": 19,
     "metadata": {},
     "output_type": "execute_result"
    }
   ],
   "source": [
    "vs.display(elx)"
   ]
  },
  {
   "cell_type": "code",
   "execution_count": 20,
   "id": "cb284f36",
   "metadata": {},
   "outputs": [
    {
     "data": {
      "text/plain": [
       "'!R43 & !S45 & !S44 | !R939 & !S45 & !S44 | !S1166 & !S45 & !S44 | !R43 & !S43 & !S42 | !R939 & !S43 & !S42 | !S1166 & !S43 & !S42 | !S1166 & !S1171 & !S1170 | !R939 & !S1171 & !S1170 | !S1166 & !S575 & !S326 & !S1169 | !R43 & !S431 & !S1167 | !R939 & !S431 & !S1167 | !S1166 & !S431 & !S1167 | !R43 & !S575 & !S326 & !S1169 | !R939 & !S575 & !S326 & !S1169 | !R43 & !S1171 & !S1170 | !R43 & !S1173 & !S1172 | !R939 & !S1173 & !S1172 | !S1166 & !S1173 & !S1172 | !R43 & !S1168 & !S471 | !R939 & !S1168 & !S471 | !S1166 & !S1168 & !S471 | !S1166 & !S47 | !R939 & !S47 & !S46 | !R43 & !S47 | R44 & !R43'"
      ]
     },
     "execution_count": 20,
     "metadata": {},
     "output_type": "execute_result"
    }
   ],
   "source": [
    "vs.display(nepr)"
   ]
  },
  {
   "cell_type": "code",
   "execution_count": 21,
   "id": "e6c6196a",
   "metadata": {},
   "outputs": [
    {
     "data": {
      "text/plain": [
       "ExprComplexity { score: Some(25), atoms: 75, depth: 25 }"
      ]
     },
     "execution_count": 21,
     "metadata": {},
     "output_type": "execute_result"
    }
   ],
   "source": [
    "nepr.estimate_complexity()"
   ]
  },
  {
   "cell_type": "code",
   "execution_count": 22,
   "id": "cc302ed4",
   "metadata": {},
   "outputs": [],
   "source": [
    "epr = ~ nepr"
   ]
  },
  {
   "cell_type": "code",
   "execution_count": 23,
   "id": "36595a15",
   "metadata": {},
   "outputs": [
    {
     "data": {
      "text/plain": [
       "ExprComplexity { score: Some(595077871104), atoms: 75, depth: 25 }"
      ]
     },
     "execution_count": 23,
     "metadata": {},
     "output_type": "execute_result"
    }
   ],
   "source": [
    "epr.estimate_complexity()"
   ]
  },
  {
   "cell_type": "code",
   "execution_count": 24,
   "id": "a52d6b74",
   "metadata": {},
   "outputs": [
    {
     "data": {
      "text/plain": [
       "ExprComplexity { score: Some(5), atoms: 6, depth: 3 }"
      ]
     },
     "execution_count": 24,
     "metadata": {},
     "output_type": "execute_result"
    }
   ],
   "source": [
    "esl = vs.parse_expression(spl, extend=True)\n",
    "esl.estimate_complexity()"
   ]
  },
  {
   "cell_type": "code",
   "execution_count": 25,
   "id": "cc564af4-6b5f-4c0f-9233-a52796bfd23e",
   "metadata": {},
   "outputs": [
    {
     "data": {
      "text/plain": [
       "ExprComplexity { score: Some(595077871104), atoms: 75, depth: 25 }"
      ]
     },
     "execution_count": 25,
     "metadata": {},
     "output_type": "execute_result"
    }
   ],
   "source": [
    "epr.estimate_complexity()"
   ]
  },
  {
   "cell_type": "code",
   "execution_count": 26,
   "id": "745ad13f-bb65-421a-9a93-e819bed27bc0",
   "metadata": {},
   "outputs": [
    {
     "name": "stdout",
     "output_type": "stream",
     "text": [
      "DecompositionReport { root_score: 72, sum_sub_score: 495 }\n"
     ]
    },
    {
     "data": {
      "text/plain": [
       "Expanded __4__ & (__14__ | __28__ | __29__) & (__14__ | __19__) & (__13__ | __19__ | __20__) & (__12__ | __19__) & (!__32__ | __12__)\n",
       "  _3_ <- __2__ & (__12__ | __23__ | __24__ | __25__) & (__13__ | __23__ | __24__ | __25__) & (__12__ | __30__ | __31__) & (__12__ | __26__ | __27__)\n",
       "  _0_ <- (__12__ | __15__ | __16__) & (__13__ | __15__ | __16__) & (__14__ | __15__ | __16__) & (__12__ | __17__ | __18__)\n",
       "  _1_ <- __0__ & (__13__ | __17__ | __18__) & (__14__ | __17__ | __18__) & (__14__ | __30__ | __31__) & (__13__ | __30__ | __31__)\n",
       "  _4_ <- __3__ & (__13__ | __26__ | __27__) & (__14__ | __26__ | __27__) & (__12__ | __28__ | __29__) & (__13__ | __28__ | __29__)\n",
       "  _2_ <- __1__ & (__14__ | __23__ | __24__ | __25__) & (__12__ | __21__ | __22__) & (__13__ | __21__ | __22__) & (__14__ | __21__ | __22__)"
      ]
     },
     "execution_count": 26,
     "metadata": {},
     "output_type": "execute_result"
    }
   ],
   "source": [
    "dc,rep = epr.decompose()\n",
    "print(rep)\n",
    "dc"
   ]
  },
  {
   "cell_type": "code",
   "execution_count": 27,
   "id": "a256c64d-8fde-412b-8d54-1e347446f215",
   "metadata": {},
   "outputs": [
    {
     "data": {
      "text/plain": [
       "54"
      ]
     },
     "execution_count": 27,
     "metadata": {},
     "output_type": "execute_result"
    }
   ],
   "source": [
    "dc.count_prime_implicants()"
   ]
  }
 ],
 "metadata": {
  "kernelspec": {
   "display_name": "Python 3 (ipykernel)",
   "language": "python",
   "name": "python3"
  },
  "language_info": {
   "codemirror_mode": {
    "name": "ipython",
    "version": 3
   },
   "file_extension": ".py",
   "mimetype": "text/x-python",
   "name": "python",
   "nbconvert_exporter": "python",
   "pygments_lexer": "ipython3",
   "version": "3.9.7"
  }
 },
 "nbformat": 4,
 "nbformat_minor": 5
}
